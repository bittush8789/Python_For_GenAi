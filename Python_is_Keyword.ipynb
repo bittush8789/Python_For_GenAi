{
 "cells": [
  {
   "cell_type": "code",
   "execution_count": 1,
   "id": "b5b7c62b-e512-4ba7-9655-3a3424fc30de",
   "metadata": {},
   "outputs": [],
   "source": [
    "### is vs =="
   ]
  },
  {
   "cell_type": "code",
   "execution_count": 10,
   "id": "35774f33-85d3-4323-8e05-79d3661652f7",
   "metadata": {},
   "outputs": [
    {
     "data": {
      "text/plain": [
       "True"
      ]
     },
     "execution_count": 10,
     "metadata": {},
     "output_type": "execute_result"
    }
   ],
   "source": [
    "lst1=[\"Bittu\",\"Bittu\",\"Bittu\"]\n",
    "lst2=[\"Bittu\",\"Bittu\",\"Bittu\"]\n",
    "lst1==lst2"
   ]
  },
  {
   "cell_type": "code",
   "execution_count": 11,
   "id": "083ead1a-c29e-4310-be3b-ae7144dfc1b4",
   "metadata": {},
   "outputs": [
    {
     "data": {
      "text/plain": [
       "True"
      ]
     },
     "execution_count": 11,
     "metadata": {},
     "output_type": "execute_result"
    }
   ],
   "source": [
    "a=\"Bittu\"\n",
    "b=\"Bittu\"\n",
    "a==b"
   ]
  },
  {
   "cell_type": "code",
   "execution_count": 12,
   "id": "c0521bff-4061-4d24-bdec-99559b001dfe",
   "metadata": {},
   "outputs": [
    {
     "data": {
      "text/plain": [
       "True"
      ]
     },
     "execution_count": 12,
     "metadata": {},
     "output_type": "execute_result"
    }
   ],
   "source": [
    "lst1=[\"Bittu\",\"Bittu\",\"Bittu\"]\n",
    "lst2=lst1\n",
    "lst1 is lst2"
   ]
  },
  {
   "cell_type": "code",
   "execution_count": 13,
   "id": "ad48a1ac-b0c3-46c0-bab1-19f466d6f2ef",
   "metadata": {},
   "outputs": [
    {
     "data": {
      "text/plain": [
       "True"
      ]
     },
     "execution_count": 13,
     "metadata": {},
     "output_type": "execute_result"
    }
   ],
   "source": [
    "lst2 is lst1"
   ]
  },
  {
   "cell_type": "code",
   "execution_count": 14,
   "id": "d55bf312-0c90-45e5-8d8b-4348b201c42d",
   "metadata": {},
   "outputs": [],
   "source": [
    "lst2[0]=\"Bittu\""
   ]
  },
  {
   "cell_type": "code",
   "execution_count": 15,
   "id": "dff52451-ac58-4c2c-a1b3-f5cbea46fbda",
   "metadata": {},
   "outputs": [
    {
     "data": {
      "text/plain": [
       "['Bittu', 'Bittu', 'Bittu']"
      ]
     },
     "execution_count": 15,
     "metadata": {},
     "output_type": "execute_result"
    }
   ],
   "source": [
    "lst1"
   ]
  },
  {
   "cell_type": "code",
   "execution_count": 16,
   "id": "c0902a09-c8a4-401c-9e50-3033b019d7e0",
   "metadata": {},
   "outputs": [
    {
     "data": {
      "text/plain": [
       "['Bittu', 'Bittu', 'Bittu']"
      ]
     },
     "execution_count": 16,
     "metadata": {},
     "output_type": "execute_result"
    }
   ],
   "source": [
    "lst2"
   ]
  },
  {
   "cell_type": "code",
   "execution_count": null,
   "id": "21b1be15-44a3-4a0b-b968-e1a7deb3fa5c",
   "metadata": {},
   "outputs": [],
   "source": []
  }
 ],
 "metadata": {
  "kernelspec": {
   "display_name": "Python 3 (ipykernel)",
   "language": "python",
   "name": "python3"
  },
  "language_info": {
   "codemirror_mode": {
    "name": "ipython",
    "version": 3
   },
   "file_extension": ".py",
   "mimetype": "text/x-python",
   "name": "python",
   "nbconvert_exporter": "python",
   "pygments_lexer": "ipython3",
   "version": "3.13.3"
  }
 },
 "nbformat": 4,
 "nbformat_minor": 5
}
