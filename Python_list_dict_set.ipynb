{
 "cells": [
  {
   "cell_type": "code",
   "execution_count": 2,
   "id": "42c3228a-9a92-42c9-9027-c3a0cecf5a1d",
   "metadata": {},
   "outputs": [],
   "source": [
    "#### Python Data Structure and Boolean\n",
    "\n",
    "## Boolean repreasents True or False"
   ]
  },
  {
   "cell_type": "code",
   "execution_count": 3,
   "id": "64bf86b4-55ed-40c9-96f3-f5c82db21e7f",
   "metadata": {},
   "outputs": [
    {
     "data": {
      "text/plain": [
       "False"
      ]
     },
     "execution_count": 3,
     "metadata": {},
     "output_type": "execute_result"
    }
   ],
   "source": [
    "False"
   ]
  },
  {
   "cell_type": "code",
   "execution_count": 5,
   "id": "888a01cd-6aa3-4c77-9899-0347d5e94015",
   "metadata": {},
   "outputs": [
    {
     "name": "stdout",
     "output_type": "stream",
     "text": [
      "True False\n"
     ]
    }
   ],
   "source": [
    "print(True,False)"
   ]
  },
  {
   "cell_type": "code",
   "execution_count": 7,
   "id": "d9aeadcb-3194-469f-8705-81091d38d42a",
   "metadata": {},
   "outputs": [
    {
     "data": {
      "text/plain": [
       "bool"
      ]
     },
     "execution_count": 7,
     "metadata": {},
     "output_type": "execute_result"
    }
   ],
   "source": [
    "type(True)"
   ]
  },
  {
   "cell_type": "code",
   "execution_count": 9,
   "id": "7eb4b798-187f-4718-b8c3-f893059ed4f3",
   "metadata": {},
   "outputs": [
    {
     "data": {
      "text/plain": [
       "True"
      ]
     },
     "execution_count": 9,
     "metadata": {},
     "output_type": "execute_result"
    }
   ],
   "source": [
    "my_str = \"Bittu Sharma\"\n",
    "my_str.istitle()"
   ]
  },
  {
   "cell_type": "code",
   "execution_count": 12,
   "id": "f870a186-97ad-43b7-8977-614e7ca1e0e1",
   "metadata": {},
   "outputs": [
    {
     "name": "stdout",
     "output_type": "stream",
     "text": [
      "False\n",
      "False\n",
      "False\n",
      "True\n",
      "False\n",
      "False\n",
      "False\n",
      "True\n",
      "True\n"
     ]
    }
   ],
   "source": [
    "print(my_str.isalnum()) #check if all char are numbers\n",
    "print(my_str.isalpha()) #check if all char in the string are alphabetic\n",
    "print(my_str.isdigit()) #test if string contains digits\n",
    "print(my_str.istitle()) #test if string contains title words\n",
    "print(my_str.isupper()) #test if string contains upper case\n",
    "print(my_str.islower()) #test if string contains lower case\n",
    "print(my_str.isspace()) #test if string contains spaces\n",
    "print(my_str.endswith('a')) #test if string endswith a d\n",
    "print(my_str.startswith('B')) #test if string startswith H"
   ]
  },
  {
   "cell_type": "code",
   "execution_count": 13,
   "id": "bd7f8d43-9eb3-41df-bd20-cabdd75b2fdf",
   "metadata": {},
   "outputs": [],
   "source": [
    "### Boolean and logical operators"
   ]
  },
  {
   "cell_type": "code",
   "execution_count": 14,
   "id": "a8d37a15-98a4-40e2-a93a-4ae1747b4089",
   "metadata": {},
   "outputs": [
    {
     "data": {
      "text/plain": [
       "True"
      ]
     },
     "execution_count": 14,
     "metadata": {},
     "output_type": "execute_result"
    }
   ],
   "source": [
    "True and True"
   ]
  },
  {
   "cell_type": "code",
   "execution_count": 16,
   "id": "a99d3d07-ef50-441e-936b-6867b0047a03",
   "metadata": {},
   "outputs": [
    {
     "data": {
      "text/plain": [
       "False"
      ]
     },
     "execution_count": 16,
     "metadata": {},
     "output_type": "execute_result"
    }
   ],
   "source": [
    "True and False"
   ]
  },
  {
   "cell_type": "code",
   "execution_count": 17,
   "id": "c229b4ae-1623-4e17-b57b-97801a0f9a74",
   "metadata": {},
   "outputs": [
    {
     "data": {
      "text/plain": [
       "True"
      ]
     },
     "execution_count": 17,
     "metadata": {},
     "output_type": "execute_result"
    }
   ],
   "source": [
    "True or False"
   ]
  },
  {
   "cell_type": "code",
   "execution_count": 18,
   "id": "7c713f8d-4333-4c63-b635-4ce1407ed535",
   "metadata": {},
   "outputs": [],
   "source": [
    "#### Lists \n",
    "\n",
    "## A List is a data strure in python that is mutable, or changeable, ordered sequence of elements. Each elements or vallue that is inside of a list is called an iteam.list are defined inside the squre brackets."
   ]
  },
  {
   "cell_type": "code",
   "execution_count": 19,
   "id": "64473e2f-d65e-473e-8fe2-55dcdaf489c3",
   "metadata": {},
   "outputs": [
    {
     "data": {
      "text/plain": [
       "list"
      ]
     },
     "execution_count": 19,
     "metadata": {},
     "output_type": "execute_result"
    }
   ],
   "source": [
    "type([])"
   ]
  },
  {
   "cell_type": "code",
   "execution_count": 20,
   "id": "75a76528-bd79-4e5b-9005-20eaa44ec678",
   "metadata": {},
   "outputs": [
    {
     "data": {
      "text/plain": [
       "list"
      ]
     },
     "execution_count": 20,
     "metadata": {},
     "output_type": "execute_result"
    }
   ],
   "source": [
    "type([])"
   ]
  },
  {
   "cell_type": "code",
   "execution_count": 22,
   "id": "952bf211-ae2f-4807-b43a-21e30e824bba",
   "metadata": {},
   "outputs": [
    {
     "data": {
      "text/plain": [
       "list"
      ]
     },
     "execution_count": 22,
     "metadata": {},
     "output_type": "execute_result"
    }
   ],
   "source": [
    "lst=list()\n",
    "type(lst)"
   ]
  },
  {
   "cell_type": "code",
   "execution_count": 23,
   "id": "7d590f17-ba04-4119-bc6e-85610f2438cf",
   "metadata": {},
   "outputs": [],
   "source": [
    "lst = ['Mathematics', 'chemistry',100,2000,300,204]"
   ]
  },
  {
   "cell_type": "code",
   "execution_count": 24,
   "id": "d163e779-1f93-4535-a788-1f7f91620b8c",
   "metadata": {},
   "outputs": [
    {
     "data": {
      "text/plain": [
       "['Mathematics', 'chemistry', 100, 2000, 300, 204]"
      ]
     },
     "execution_count": 24,
     "metadata": {},
     "output_type": "execute_result"
    }
   ],
   "source": [
    "lst"
   ]
  },
  {
   "cell_type": "code",
   "execution_count": 25,
   "id": "8d8d6920-dc2c-4a47-b833-16514f511d27",
   "metadata": {},
   "outputs": [
    {
     "data": {
      "text/plain": [
       "list"
      ]
     },
     "execution_count": 25,
     "metadata": {},
     "output_type": "execute_result"
    }
   ],
   "source": [
    "type(lst)"
   ]
  },
  {
   "cell_type": "code",
   "execution_count": 26,
   "id": "d7670a37-cdc0-423e-ae7c-77522ecf4cce",
   "metadata": {},
   "outputs": [
    {
     "data": {
      "text/plain": [
       "6"
      ]
     },
     "execution_count": 26,
     "metadata": {},
     "output_type": "execute_result"
    }
   ],
   "source": [
    "len(lst)"
   ]
  },
  {
   "cell_type": "code",
   "execution_count": 27,
   "id": "e5cccbe6-45e6-4bb0-82ab-46c93bcf27b7",
   "metadata": {},
   "outputs": [],
   "source": [
    "### Append"
   ]
  },
  {
   "cell_type": "code",
   "execution_count": 28,
   "id": "3805f3ae-e5a4-416a-9b19-d1faf9b37bd9",
   "metadata": {},
   "outputs": [],
   "source": [
    "### append is used to add elements in the list\n",
    "lst.append(\"Bittu Sharma\")"
   ]
  },
  {
   "cell_type": "code",
   "execution_count": 30,
   "id": "d9deca06-7501-495b-8ee3-395c1641d3ae",
   "metadata": {},
   "outputs": [],
   "source": [
    "lst.append([\"Anuj\",\"Rajput\"])"
   ]
  },
  {
   "cell_type": "code",
   "execution_count": 31,
   "id": "8d37b30e-7859-4ded-a990-c00ceda68d2d",
   "metadata": {},
   "outputs": [
    {
     "data": {
      "text/plain": [
       "['Mathematics',\n",
       " 'chemistry',\n",
       " 100,\n",
       " 2000,\n",
       " 300,\n",
       " 204,\n",
       " 'Bittu Sharma',\n",
       " ['Anuj', 'Rajput']]"
      ]
     },
     "execution_count": 31,
     "metadata": {},
     "output_type": "execute_result"
    }
   ],
   "source": [
    "lst"
   ]
  },
  {
   "cell_type": "code",
   "execution_count": 32,
   "id": "47839bec-f270-4b33-9a0c-afd2d1fe6b31",
   "metadata": {},
   "outputs": [
    {
     "data": {
      "text/plain": [
       "'Bittu Sharma'"
      ]
     },
     "execution_count": 32,
     "metadata": {},
     "output_type": "execute_result"
    }
   ],
   "source": [
    "lst[6]"
   ]
  },
  {
   "cell_type": "code",
   "execution_count": 33,
   "id": "f7562aea-0777-4feb-9789-cac6700b7d29",
   "metadata": {},
   "outputs": [
    {
     "data": {
      "text/plain": [
       "'Mathematics'"
      ]
     },
     "execution_count": 33,
     "metadata": {},
     "output_type": "execute_result"
    }
   ],
   "source": [
    "lst[0]"
   ]
  },
  {
   "cell_type": "code",
   "execution_count": 34,
   "id": "5df63302-753e-4171-9665-bf6438cbef3b",
   "metadata": {},
   "outputs": [
    {
     "data": {
      "text/plain": [
       "['chemistry', 100, 2000, 300, 204]"
      ]
     },
     "execution_count": 34,
     "metadata": {},
     "output_type": "execute_result"
    }
   ],
   "source": [
    "lst[1:6]"
   ]
  },
  {
   "cell_type": "code",
   "execution_count": 35,
   "id": "d818cdca-a9a8-4ab7-8bb9-0fa05f038074",
   "metadata": {},
   "outputs": [
    {
     "data": {
      "text/plain": [
       "['Mathematics',\n",
       " 'chemistry',\n",
       " 100,\n",
       " 2000,\n",
       " 300,\n",
       " 204,\n",
       " 'Bittu Sharma',\n",
       " ['Anuj', 'Rajput']]"
      ]
     },
     "execution_count": 35,
     "metadata": {},
     "output_type": "execute_result"
    }
   ],
   "source": [
    "lst"
   ]
  },
  {
   "cell_type": "code",
   "execution_count": 36,
   "id": "c60cec50-ded4-4638-9471-9be0222513fc",
   "metadata": {},
   "outputs": [
    {
     "data": {
      "text/plain": [
       "[100, 2000, 300]"
      ]
     },
     "execution_count": 36,
     "metadata": {},
     "output_type": "execute_result"
    }
   ],
   "source": [
    "lst[2:5]"
   ]
  },
  {
   "cell_type": "code",
   "execution_count": 37,
   "id": "ec3f7375-b060-433d-acc1-35a73b789dfe",
   "metadata": {},
   "outputs": [],
   "source": [
    "### Insert"
   ]
  },
  {
   "cell_type": "code",
   "execution_count": 39,
   "id": "bae51521-0656-461b-948b-eefd1d3cdbc5",
   "metadata": {},
   "outputs": [
    {
     "data": {
      "text/plain": [
       "['Mathematics',\n",
       " 'chemistry',\n",
       " 100,\n",
       " 2000,\n",
       " 300,\n",
       " 204,\n",
       " 'Bittu Sharma',\n",
       " ['Anuj', 'Rajput']]"
      ]
     },
     "execution_count": 39,
     "metadata": {},
     "output_type": "execute_result"
    }
   ],
   "source": [
    "lst"
   ]
  },
  {
   "cell_type": "code",
   "execution_count": 41,
   "id": "6ccd2837-5ab5-4b84-bf4f-373f917d5cf8",
   "metadata": {},
   "outputs": [],
   "source": [
    "lst.append([\"Hello\",\"World\"])"
   ]
  },
  {
   "cell_type": "code",
   "execution_count": 42,
   "id": "cd50ccf2-8ab1-4f07-8185-5859ee300c91",
   "metadata": {},
   "outputs": [
    {
     "data": {
      "text/plain": [
       "['Mathematics',\n",
       " 'chemistry',\n",
       " 100,\n",
       " 2000,\n",
       " 300,\n",
       " 204,\n",
       " 'Bittu Sharma',\n",
       " ['Anuj', 'Rajput'],\n",
       " ['Hello', 'World']]"
      ]
     },
     "execution_count": 42,
     "metadata": {},
     "output_type": "execute_result"
    }
   ],
   "source": [
    "lst"
   ]
  },
  {
   "cell_type": "code",
   "execution_count": 43,
   "id": "4ea4e353-230b-404d-a34a-589bed9fb8a4",
   "metadata": {},
   "outputs": [
    {
     "data": {
      "text/plain": [
       "['Hello', 'World']"
      ]
     },
     "execution_count": 43,
     "metadata": {},
     "output_type": "execute_result"
    }
   ],
   "source": [
    "lst.pop()"
   ]
  },
  {
   "cell_type": "code",
   "execution_count": 45,
   "id": "6db06c85-b84b-424e-8ae9-c8533874807f",
   "metadata": {},
   "outputs": [
    {
     "data": {
      "text/plain": [
       "['Mathematics',\n",
       " 'chemistry',\n",
       " 100,\n",
       " 2000,\n",
       " 300,\n",
       " 204,\n",
       " 'Bittu Sharma',\n",
       " ['Anuj', 'Rajput']]"
      ]
     },
     "execution_count": 45,
     "metadata": {},
     "output_type": "execute_result"
    }
   ],
   "source": [
    "lst"
   ]
  },
  {
   "cell_type": "code",
   "execution_count": 46,
   "id": "8ae67edc-05fc-474b-b6bb-e93152356c1f",
   "metadata": {},
   "outputs": [],
   "source": [
    "lst = [1,2,3]"
   ]
  },
  {
   "cell_type": "code",
   "execution_count": 47,
   "id": "7e5a2447-913f-4f04-8c0f-076cb3a1873b",
   "metadata": {},
   "outputs": [],
   "source": [
    "lst.append([4,5])"
   ]
  },
  {
   "cell_type": "code",
   "execution_count": 48,
   "id": "9e347ca2-b59f-4af4-bfd0-02b877330437",
   "metadata": {},
   "outputs": [
    {
     "data": {
      "text/plain": [
       "[1, 2, 3, [4, 5]]"
      ]
     },
     "execution_count": 48,
     "metadata": {},
     "output_type": "execute_result"
    }
   ],
   "source": [
    "lst"
   ]
  },
  {
   "cell_type": "code",
   "execution_count": 50,
   "id": "fd1628c5-e06c-4c67-97cc-d791a1413e2a",
   "metadata": {},
   "outputs": [],
   "source": [
    "## Extended Method"
   ]
  },
  {
   "cell_type": "code",
   "execution_count": 51,
   "id": "8c51e626-596b-4c4a-8a1d-ba8292b03fe3",
   "metadata": {},
   "outputs": [],
   "source": [
    "lst=[1,2,3,4,5,6]"
   ]
  },
  {
   "cell_type": "code",
   "execution_count": 52,
   "id": "edb037ae-8a3d-45f7-8754-42bf292f2f8f",
   "metadata": {},
   "outputs": [],
   "source": [
    "lst.extend([8,9])"
   ]
  },
  {
   "cell_type": "code",
   "execution_count": 53,
   "id": "9dc909bb-0b29-4ae3-84aa-82292593a994",
   "metadata": {},
   "outputs": [
    {
     "data": {
      "text/plain": [
       "[1, 2, 3, 4, 5, 6, 8, 9]"
      ]
     },
     "execution_count": 53,
     "metadata": {},
     "output_type": "execute_result"
    }
   ],
   "source": [
    "lst"
   ]
  },
  {
   "cell_type": "code",
   "execution_count": 55,
   "id": "8a4d8882-bd46-41b2-afd4-cc1380f946f6",
   "metadata": {},
   "outputs": [],
   "source": [
    "lst.extend([10,11])"
   ]
  },
  {
   "cell_type": "code",
   "execution_count": 56,
   "id": "8a7e2cbc-762c-46e8-894e-a238b767be6b",
   "metadata": {},
   "outputs": [
    {
     "data": {
      "text/plain": [
       "[1, 2, 3, 4, 5, 6, 8, 9, 10, 11]"
      ]
     },
     "execution_count": 56,
     "metadata": {},
     "output_type": "execute_result"
    }
   ],
   "source": [
    "lst"
   ]
  },
  {
   "cell_type": "code",
   "execution_count": 57,
   "id": "fa2b7cec-c476-46c3-8ec7-af92744d5fac",
   "metadata": {},
   "outputs": [],
   "source": [
    "### Various Operations that we can performed in a List "
   ]
  },
  {
   "cell_type": "code",
   "execution_count": 58,
   "id": "9be7b3a4-5dbb-4c2f-9d49-31f369359728",
   "metadata": {},
   "outputs": [],
   "source": [
    "lst = [1,2,3,4,5,6]"
   ]
  },
  {
   "cell_type": "code",
   "execution_count": 60,
   "id": "d7c0b47d-3fea-4b96-9096-d3b5858cc84b",
   "metadata": {},
   "outputs": [
    {
     "data": {
      "text/plain": [
       "21"
      ]
     },
     "execution_count": 60,
     "metadata": {},
     "output_type": "execute_result"
    }
   ],
   "source": [
    "sum(lst)"
   ]
  },
  {
   "cell_type": "code",
   "execution_count": 64,
   "id": "1f7dccc3-b425-4d5c-997d-1d5e88a48b72",
   "metadata": {},
   "outputs": [
    {
     "data": {
      "text/plain": [
       "[1, 2, 3, 4, 5, 6, 1, 2, 3, 4, 5, 6, 1, 2, 3, 4, 5, 6]"
      ]
     },
     "execution_count": 64,
     "metadata": {},
     "output_type": "execute_result"
    }
   ],
   "source": [
    "lst*3"
   ]
  },
  {
   "cell_type": "code",
   "execution_count": 65,
   "id": "df799264-2c6f-4f0e-bcdf-55e13fb586da",
   "metadata": {},
   "outputs": [],
   "source": [
    "### Pop method"
   ]
  },
  {
   "cell_type": "code",
   "execution_count": 67,
   "id": "eb240600-0b3d-49d0-9cfe-da4204e650df",
   "metadata": {},
   "outputs": [
    {
     "data": {
      "text/plain": [
       "[1, 2, 3, 4, 5]"
      ]
     },
     "execution_count": 67,
     "metadata": {},
     "output_type": "execute_result"
    }
   ],
   "source": [
    "lst"
   ]
  },
  {
   "cell_type": "code",
   "execution_count": 68,
   "id": "e7f4423c-a5dc-4917-ac76-93f0a3f44a9c",
   "metadata": {},
   "outputs": [
    {
     "data": {
      "text/plain": [
       "5"
      ]
     },
     "execution_count": 68,
     "metadata": {},
     "output_type": "execute_result"
    }
   ],
   "source": [
    "lst.pop()"
   ]
  },
  {
   "cell_type": "code",
   "execution_count": 69,
   "id": "381a3dd5-0f09-4a2a-bda7-3766709b8d0a",
   "metadata": {},
   "outputs": [
    {
     "data": {
      "text/plain": [
       "[1, 2, 3, 4]"
      ]
     },
     "execution_count": 69,
     "metadata": {},
     "output_type": "execute_result"
    }
   ],
   "source": [
    "lst"
   ]
  },
  {
   "cell_type": "code",
   "execution_count": 70,
   "id": "a5402519-93c9-4677-8784-18812f8c0239",
   "metadata": {},
   "outputs": [
    {
     "data": {
      "text/plain": [
       "1"
      ]
     },
     "execution_count": 70,
     "metadata": {},
     "output_type": "execute_result"
    }
   ],
   "source": [
    "lst.pop(0)"
   ]
  },
  {
   "cell_type": "code",
   "execution_count": 71,
   "id": "3d143ad0-dc48-4667-b19c-9f9b96ea8a88",
   "metadata": {},
   "outputs": [
    {
     "data": {
      "text/plain": [
       "[2, 3, 4]"
      ]
     },
     "execution_count": 71,
     "metadata": {},
     "output_type": "execute_result"
    }
   ],
   "source": [
    "lst"
   ]
  },
  {
   "cell_type": "code",
   "execution_count": 72,
   "id": "91343729-cec9-4ca7-8e46-38124b5a35b4",
   "metadata": {},
   "outputs": [],
   "source": [
    "### Count(): Calculates total occurrence of given elements of List"
   ]
  },
  {
   "cell_type": "code",
   "execution_count": 74,
   "id": "4f3a2e61-c930-4cbb-8de1-dc5650addceb",
   "metadata": {},
   "outputs": [
    {
     "data": {
      "text/plain": [
       "2"
      ]
     },
     "execution_count": 74,
     "metadata": {},
     "output_type": "execute_result"
    }
   ],
   "source": [
    "lst=[1,1,2,3,4,5]\n",
    "lst.count(1)"
   ]
  },
  {
   "cell_type": "code",
   "execution_count": 76,
   "id": "ba9e45d9-7528-4990-976c-ccd249fc56c3",
   "metadata": {},
   "outputs": [
    {
     "data": {
      "text/plain": [
       "1"
      ]
     },
     "execution_count": 76,
     "metadata": {},
     "output_type": "execute_result"
    }
   ],
   "source": [
    "lst.count(2)"
   ]
  },
  {
   "cell_type": "code",
   "execution_count": 79,
   "id": "bf880763-3ea2-4b69-a3c3-44148ea68f9a",
   "metadata": {},
   "outputs": [
    {
     "data": {
      "text/plain": [
       "6"
      ]
     },
     "execution_count": 79,
     "metadata": {},
     "output_type": "execute_result"
    }
   ],
   "source": [
    "#length:Calculates total length of List\n",
    "\n",
    "len(lst)"
   ]
  },
  {
   "cell_type": "code",
   "execution_count": 80,
   "id": "b6f5813a-7c2a-4a1a-9305-482a945ac9ce",
   "metadata": {},
   "outputs": [
    {
     "data": {
      "text/plain": [
       "1"
      ]
     },
     "execution_count": 80,
     "metadata": {},
     "output_type": "execute_result"
    }
   ],
   "source": [
    "# index(): Returns the index of first occurrence. Start and End index are not necessary parameters\n",
    "lst.index(1,1,4)"
   ]
  },
  {
   "cell_type": "code",
   "execution_count": 86,
   "id": "50749fe7-be8a-48c2-9a95-fa497bcb2ce9",
   "metadata": {},
   "outputs": [],
   "source": [
    "lst.append(2)"
   ]
  },
  {
   "cell_type": "code",
   "execution_count": 87,
   "id": "c419a970-ae73-4f7b-8397-500fbcb95bdb",
   "metadata": {},
   "outputs": [
    {
     "data": {
      "text/plain": [
       "[1, 1, 2, 3, 4, 5, [2], 2]"
      ]
     },
     "execution_count": 87,
     "metadata": {},
     "output_type": "execute_result"
    }
   ],
   "source": [
    "lst"
   ]
  },
  {
   "cell_type": "code",
   "execution_count": 88,
   "id": "1739d77a-8076-4123-b1b3-fb6527e5dc3b",
   "metadata": {},
   "outputs": [
    {
     "data": {
      "text/plain": [
       "1"
      ]
     },
     "execution_count": 88,
     "metadata": {},
     "output_type": "execute_result"
    }
   ],
   "source": [
    "lst.index(1,1,4)"
   ]
  },
  {
   "cell_type": "code",
   "execution_count": 89,
   "id": "f22aa6ea-9b30-4003-b2a2-0338025c4101",
   "metadata": {},
   "outputs": [
    {
     "data": {
      "text/plain": [
       "2"
      ]
     },
     "execution_count": 89,
     "metadata": {},
     "output_type": "execute_result"
    }
   ],
   "source": [
    "lst.pop()"
   ]
  },
  {
   "cell_type": "code",
   "execution_count": 90,
   "id": "23463dea-40cf-4b0c-9c2c-243f2a446e82",
   "metadata": {},
   "outputs": [
    {
     "data": {
      "text/plain": [
       "[2]"
      ]
     },
     "execution_count": 90,
     "metadata": {},
     "output_type": "execute_result"
    }
   ],
   "source": [
    "lst.pop()"
   ]
  },
  {
   "cell_type": "code",
   "execution_count": 91,
   "id": "883ac6b8-17c1-40a5-9d82-30480cc4f915",
   "metadata": {},
   "outputs": [],
   "source": [
    "lst.append(2)"
   ]
  },
  {
   "cell_type": "code",
   "execution_count": 93,
   "id": "343f0d6f-691c-4900-8cfc-4d6ed4bd95a7",
   "metadata": {},
   "outputs": [
    {
     "data": {
      "text/plain": [
       "[1, 1, 2, 3, 4, 5, 2]"
      ]
     },
     "execution_count": 93,
     "metadata": {},
     "output_type": "execute_result"
    }
   ],
   "source": [
    "lst"
   ]
  },
  {
   "cell_type": "code",
   "execution_count": 94,
   "id": "88592bc7-9184-4e94-9ed5-b2bd0f7f67e2",
   "metadata": {},
   "outputs": [],
   "source": [
    "### min and max"
   ]
  },
  {
   "cell_type": "code",
   "execution_count": 96,
   "id": "a27ee648-e533-4f18-a34f-f0c348be75d6",
   "metadata": {},
   "outputs": [
    {
     "data": {
      "text/plain": [
       "1"
      ]
     },
     "execution_count": 96,
     "metadata": {},
     "output_type": "execute_result"
    }
   ],
   "source": [
    "min(lst)"
   ]
  },
  {
   "cell_type": "code",
   "execution_count": 97,
   "id": "f8a89a82-e777-48c9-9153-18d89a444542",
   "metadata": {},
   "outputs": [
    {
     "data": {
      "text/plain": [
       "5"
      ]
     },
     "execution_count": 97,
     "metadata": {},
     "output_type": "execute_result"
    }
   ],
   "source": [
    "max(lst)"
   ]
  },
  {
   "cell_type": "code",
   "execution_count": 98,
   "id": "c2abdcd7-2899-4575-bc48-e187a2f4287d",
   "metadata": {},
   "outputs": [],
   "source": [
    "### Sets"
   ]
  },
  {
   "cell_type": "code",
   "execution_count": 99,
   "id": "2392bf25-c2fa-49ff-a825-17a6e241b8c4",
   "metadata": {},
   "outputs": [],
   "source": [
    "## A set is an unordered collection data type that is iterable and has no duplicates elements. Python set class  represents the mathematical notaion os a set .This is based on data structure known as hash table."
   ]
  },
  {
   "cell_type": "code",
   "execution_count": 100,
   "id": "030d0173-04cc-4510-89c3-579be9d1d69c",
   "metadata": {},
   "outputs": [
    {
     "name": "stdout",
     "output_type": "stream",
     "text": [
      "set()\n",
      "<class 'set'>\n"
     ]
    }
   ],
   "source": [
    "## Defining an empy set\n",
    "\n",
    "set_var= set()\n",
    "print(set_var)\n",
    "print(type(set_var))"
   ]
  },
  {
   "cell_type": "code",
   "execution_count": 101,
   "id": "5eaada73-d315-4535-97ce-6c8ce4321a2e",
   "metadata": {},
   "outputs": [],
   "source": [
    "set_var={1,2,3,4,3}"
   ]
  },
  {
   "cell_type": "code",
   "execution_count": 102,
   "id": "73a11285-9aa0-496b-aaa1-e0440c6e597f",
   "metadata": {},
   "outputs": [
    {
     "data": {
      "text/plain": [
       "{1, 2, 3, 4}"
      ]
     },
     "execution_count": 102,
     "metadata": {},
     "output_type": "execute_result"
    }
   ],
   "source": [
    "set_var"
   ]
  },
  {
   "cell_type": "code",
   "execution_count": 103,
   "id": "61f8704f-76d9-4939-ae48-77d14cb92443",
   "metadata": {},
   "outputs": [
    {
     "name": "stdout",
     "output_type": "stream",
     "text": [
      "{'IronMan', 'Avengers', 'Hitman'}\n"
     ]
    },
    {
     "data": {
      "text/plain": [
       "set"
      ]
     },
     "execution_count": 103,
     "metadata": {},
     "output_type": "execute_result"
    }
   ],
   "source": [
    "set_var={\"Avengers\",\"IronMan\",'Hitman'}\n",
    "print(set_var)\n",
    "type(set_var)"
   ]
  },
  {
   "cell_type": "code",
   "execution_count": 104,
   "id": "74c1788c-4a09-4234-b8b8-d61a2e55e537",
   "metadata": {},
   "outputs": [],
   "source": [
    "## Inbuilt function in sets\n",
    "\n",
    "set_var.add(\"Hulk\")"
   ]
  },
  {
   "cell_type": "code",
   "execution_count": 105,
   "id": "78a11035-5d98-4001-915c-a41d93d555a7",
   "metadata": {},
   "outputs": [
    {
     "name": "stdout",
     "output_type": "stream",
     "text": [
      "{'Hulk', 'IronMan', 'Avengers', 'Hitman'}\n"
     ]
    }
   ],
   "source": [
    "print(set_var)"
   ]
  },
  {
   "cell_type": "code",
   "execution_count": 106,
   "id": "dd90fb8c-872b-428f-b17e-1e90a0dec199",
   "metadata": {},
   "outputs": [],
   "source": [
    "set1={\"Avengers\",\"IronMan\",'Hitman'}\n",
    "set2={\"Avengers\",\"IronMan\",'Hitman','Hulk2'}"
   ]
  },
  {
   "cell_type": "code",
   "execution_count": 107,
   "id": "3a73f2fd-4328-4fb2-8f65-6e5a642d8ede",
   "metadata": {},
   "outputs": [],
   "source": [
    "set2.intersection_update(set1)"
   ]
  },
  {
   "cell_type": "code",
   "execution_count": 108,
   "id": "d005a113-ab4f-4208-927e-1617840eef42",
   "metadata": {},
   "outputs": [
    {
     "data": {
      "text/plain": [
       "{'Avengers', 'Hitman', 'IronMan'}"
      ]
     },
     "execution_count": 108,
     "metadata": {},
     "output_type": "execute_result"
    }
   ],
   "source": [
    "set2"
   ]
  },
  {
   "cell_type": "code",
   "execution_count": 109,
   "id": "b4237188-dd46-491d-904e-daff21b71777",
   "metadata": {},
   "outputs": [
    {
     "data": {
      "text/plain": [
       "{'Avengers', 'Hitman', 'IronMan'}"
      ]
     },
     "execution_count": 109,
     "metadata": {},
     "output_type": "execute_result"
    }
   ],
   "source": [
    "set1"
   ]
  },
  {
   "cell_type": "code",
   "execution_count": 110,
   "id": "62c2f230-b19a-440c-85a4-2e94daf2ebcc",
   "metadata": {},
   "outputs": [
    {
     "data": {
      "text/plain": [
       "set()"
      ]
     },
     "execution_count": 110,
     "metadata": {},
     "output_type": "execute_result"
    }
   ],
   "source": [
    "##Difference \n",
    "set2.difference(set1)"
   ]
  },
  {
   "cell_type": "code",
   "execution_count": 111,
   "id": "60902663-3e75-4249-8072-6d6dc3078b01",
   "metadata": {},
   "outputs": [
    {
     "data": {
      "text/plain": [
       "{'Avengers', 'Hitman', 'IronMan'}"
      ]
     },
     "execution_count": 111,
     "metadata": {},
     "output_type": "execute_result"
    }
   ],
   "source": [
    "set2"
   ]
  },
  {
   "cell_type": "code",
   "execution_count": 112,
   "id": "e28dd5fe-19f5-47df-a1ba-a431fd178186",
   "metadata": {},
   "outputs": [],
   "source": [
    "## Difference update\n",
    "\n",
    "set2.difference_update(set1)"
   ]
  },
  {
   "cell_type": "code",
   "execution_count": 113,
   "id": "9076d2e4-3637-43c3-866b-d179afce94b0",
   "metadata": {},
   "outputs": [
    {
     "name": "stdout",
     "output_type": "stream",
     "text": [
      "set()\n"
     ]
    }
   ],
   "source": [
    "print(set2)"
   ]
  },
  {
   "cell_type": "code",
   "execution_count": 114,
   "id": "2315af55-da5d-4c83-aeaa-e9ef8530ade0",
   "metadata": {},
   "outputs": [],
   "source": [
    "### Dictionaries"
   ]
  },
  {
   "cell_type": "code",
   "execution_count": 117,
   "id": "82d8ea5a-5852-42ec-93d8-1443b9568d91",
   "metadata": {},
   "outputs": [],
   "source": [
    "### A dictionary is a collection which is unorderd,changeable and indexed.In python dictionaries are wriiten with curly brackets and they have keys and values.\n",
    "    "
   ]
  },
  {
   "cell_type": "code",
   "execution_count": 128,
   "id": "9bde0501-fee0-4d49-8be8-89bf0cea91b3",
   "metadata": {},
   "outputs": [],
   "source": [
    "dic ={}"
   ]
  },
  {
   "cell_type": "code",
   "execution_count": 130,
   "id": "578a70f7-18c1-476f-a99f-1e26b7bd4e78",
   "metadata": {},
   "outputs": [],
   "source": [
    "set_ex={1,2,3,4,5}"
   ]
  },
  {
   "cell_type": "code",
   "execution_count": 131,
   "id": "39a38352-037c-4ad2-890e-f7895c555ef1",
   "metadata": {},
   "outputs": [
    {
     "ename": "TypeError",
     "evalue": "'dict' object is not callable",
     "output_type": "error",
     "traceback": [
      "\u001b[1;31m---------------------------------------------------------------------------\u001b[0m",
      "\u001b[1;31mTypeError\u001b[0m                                 Traceback (most recent call last)",
      "Cell \u001b[1;32mIn[131], line 1\u001b[0m\n\u001b[1;32m----> 1\u001b[0m \u001b[38;5;28;43mtype\u001b[39;49m\u001b[43m(\u001b[49m\u001b[43mset_ex\u001b[49m\u001b[43m)\u001b[49m\n",
      "\u001b[1;31mTypeError\u001b[0m: 'dict' object is not callable"
     ]
    }
   ],
   "source": [
    "type(set_ex)"
   ]
  },
  {
   "cell_type": "code",
   "execution_count": 132,
   "id": "c2336e78-3ee0-44c3-a5ac-f4208c375881",
   "metadata": {},
   "outputs": [],
   "source": [
    "#### Set"
   ]
  },
  {
   "cell_type": "code",
   "execution_count": 133,
   "id": "e2a15bdc-a811-432a-b455-b6d81c069a8c",
   "metadata": {},
   "outputs": [],
   "source": [
    "### Let create a dictionary"
   ]
  },
  {
   "cell_type": "code",
   "execution_count": 134,
   "id": "7fad5caa-f4fc-46db-84e7-836d86b25057",
   "metadata": {},
   "outputs": [],
   "source": [
    "my_dict={\"Car1\": \"Audi\", \"Car2\":\"BMW\",\"Car3\":\"Mercidies Benz\"}"
   ]
  },
  {
   "cell_type": "code",
   "execution_count": null,
   "id": "8ca3eca4-0fae-4869-9f91-d967f7287868",
   "metadata": {},
   "outputs": [],
   "source": [
    "type(my_dict)"
   ]
  },
  {
   "cell_type": "code",
   "execution_count": 136,
   "id": "23986bd8-c9d7-44ae-acd9-cb5f99f84421",
   "metadata": {},
   "outputs": [
    {
     "data": {
      "text/plain": [
       "'Audi'"
      ]
     },
     "execution_count": 136,
     "metadata": {},
     "output_type": "execute_result"
    }
   ],
   "source": [
    "##Access the item values based on keys\n",
    "\n",
    "my_dict['Car1']"
   ]
  },
  {
   "cell_type": "code",
   "execution_count": 137,
   "id": "90866a72-e97d-44a6-afa1-835930dac638",
   "metadata": {},
   "outputs": [
    {
     "data": {
      "text/plain": [
       "'BMW'"
      ]
     },
     "execution_count": 137,
     "metadata": {},
     "output_type": "execute_result"
    }
   ],
   "source": [
    "my_dict['Car2']"
   ]
  },
  {
   "cell_type": "code",
   "execution_count": 141,
   "id": "00bce5d2-0b82-49f1-b056-aaa8d7865a30",
   "metadata": {},
   "outputs": [
    {
     "name": "stdout",
     "output_type": "stream",
     "text": [
      "Audi\n",
      "BMW\n",
      "Mercidies Benz\n"
     ]
    }
   ],
   "source": [
    "### We can even loop tgrough the dictonaries values\n",
    "\n",
    "for x in my_dict.values():\n",
    "    print(x)"
   ]
  },
  {
   "cell_type": "raw",
   "id": "d5ec1a82-49e9-4cc8-9658-6d50689a7384",
   "metadata": {},
   "source": [
    "# We can also check both keys and values\n",
    "for x in my_dict.items():\n",
    "    print(x)"
   ]
  },
  {
   "cell_type": "code",
   "execution_count": 142,
   "id": "f77526b3-46eb-433c-9a16-07480a1fab93",
   "metadata": {},
   "outputs": [],
   "source": [
    "## Adding items in Dictionaries\n",
    "\n",
    "my_dict['car4']='Audi 2.0'"
   ]
  },
  {
   "cell_type": "code",
   "execution_count": 143,
   "id": "1bc46e01-1447-4c0d-b3af-953d79bbef51",
   "metadata": {},
   "outputs": [
    {
     "data": {
      "text/plain": [
       "{'Car1': 'Audi', 'Car2': 'BMW', 'Car3': 'Mercidies Benz', 'car4': 'Audi 2.0'}"
      ]
     },
     "execution_count": 143,
     "metadata": {},
     "output_type": "execute_result"
    }
   ],
   "source": [
    "my_dict"
   ]
  },
  {
   "cell_type": "code",
   "execution_count": 144,
   "id": "77a12e8c-5d13-4bef-b5f3-61a48ea8240e",
   "metadata": {},
   "outputs": [
    {
     "data": {
      "text/plain": [
       "{'Car1': 'Audi', 'Car2': 'BMW', 'Car3': 'Mercidies Benz', 'car4': 'Audi 2.0'}"
      ]
     },
     "execution_count": 144,
     "metadata": {},
     "output_type": "execute_result"
    }
   ],
   "source": [
    "my_dict"
   ]
  },
  {
   "cell_type": "code",
   "execution_count": 145,
   "id": "4f67e300-7bf1-4bca-99ec-a1e6e36ab572",
   "metadata": {},
   "outputs": [],
   "source": [
    "my_dict['car']='Tesla 2.0'"
   ]
  },
  {
   "cell_type": "code",
   "execution_count": 146,
   "id": "4b5a7c6c-c63c-479b-81c6-dc76dc118a4b",
   "metadata": {},
   "outputs": [
    {
     "data": {
      "text/plain": [
       "{'Car1': 'Audi',\n",
       " 'Car2': 'BMW',\n",
       " 'Car3': 'Mercidies Benz',\n",
       " 'car4': 'Audi 2.0',\n",
       " 'car': 'Tesla 2.0'}"
      ]
     },
     "execution_count": 146,
     "metadata": {},
     "output_type": "execute_result"
    }
   ],
   "source": [
    "my_dict"
   ]
  },
  {
   "cell_type": "code",
   "execution_count": 147,
   "id": "34ef0542-6101-45a4-838f-2274c68f3eb5",
   "metadata": {},
   "outputs": [],
   "source": [
    "### Nested Dictonary"
   ]
  },
  {
   "cell_type": "code",
   "execution_count": 148,
   "id": "0df55473-8012-4dbc-a6a7-9b520ebaa613",
   "metadata": {},
   "outputs": [],
   "source": [
    "car1_model={'Mercedes':1960}\n",
    "car2_model={'Audi':1970}\n",
    "car3_model={'Ambassador':1980}\n",
    "\n",
    "car_type={'car1':car1_model,'car2':car2_model,'car3':car3_model}"
   ]
  },
  {
   "cell_type": "code",
   "execution_count": 149,
   "id": "8e7ec021-025a-4a0f-8406-b22264b11aff",
   "metadata": {},
   "outputs": [
    {
     "name": "stdout",
     "output_type": "stream",
     "text": [
      "{'car1': {'Mercedes': 1960}, 'car2': {'Audi': 1970}, 'car3': {'Ambassador': 1980}}\n"
     ]
    }
   ],
   "source": [
    "print(car_type)"
   ]
  },
  {
   "cell_type": "code",
   "execution_count": 150,
   "id": "4370af29-d287-453d-80ee-b53df69ecb6f",
   "metadata": {},
   "outputs": [
    {
     "name": "stdout",
     "output_type": "stream",
     "text": [
      "{'Mercedes': 1960}\n"
     ]
    }
   ],
   "source": [
    "## Accessing the items in the dictionary\n",
    "print(car_type['car1'])"
   ]
  },
  {
   "cell_type": "code",
   "execution_count": 151,
   "id": "e2240593-7549-4b5c-9065-07ae9f927ed8",
   "metadata": {},
   "outputs": [
    {
     "name": "stdout",
     "output_type": "stream",
     "text": [
      "{'Audi': 1970}\n"
     ]
    }
   ],
   "source": [
    "print(car_type['car2'])"
   ]
  },
  {
   "cell_type": "code",
   "execution_count": 153,
   "id": "7d2e219c-4f11-4198-bed6-22afcfebe6ab",
   "metadata": {},
   "outputs": [
    {
     "name": "stdout",
     "output_type": "stream",
     "text": [
      "1960\n"
     ]
    }
   ],
   "source": [
    "print(car_type['car1']['Mercedes'])"
   ]
  },
  {
   "cell_type": "code",
   "execution_count": 154,
   "id": "08f16a27-ba62-4419-8ed7-098400825f2d",
   "metadata": {},
   "outputs": [],
   "source": [
    "## Tuples"
   ]
  },
  {
   "cell_type": "code",
   "execution_count": 155,
   "id": "9cb74731-f082-41cc-94b0-18899192ff50",
   "metadata": {},
   "outputs": [],
   "source": [
    "### Create an empty Tuples"
   ]
  },
  {
   "cell_type": "code",
   "execution_count": 156,
   "id": "f6fc955a-ce52-4418-acf2-f87b39183c6b",
   "metadata": {},
   "outputs": [],
   "source": [
    "my_tuple=tuple()"
   ]
  },
  {
   "cell_type": "code",
   "execution_count": 159,
   "id": "e3ff5e6a-3aa1-45b5-8c0e-50b345e257a7",
   "metadata": {},
   "outputs": [
    {
     "ename": "TypeError",
     "evalue": "'dict' object is not callable",
     "output_type": "error",
     "traceback": [
      "\u001b[1;31m---------------------------------------------------------------------------\u001b[0m",
      "\u001b[1;31mTypeError\u001b[0m                                 Traceback (most recent call last)",
      "Cell \u001b[1;32mIn[159], line 1\u001b[0m\n\u001b[1;32m----> 1\u001b[0m \u001b[38;5;28;43mtype\u001b[39;49m\u001b[43m(\u001b[49m\u001b[43mmy_tuple\u001b[49m\u001b[43m)\u001b[49m\n",
      "\u001b[1;31mTypeError\u001b[0m: 'dict' object is not callable"
     ]
    }
   ],
   "source": [
    "type(my_tuple)"
   ]
  },
  {
   "cell_type": "code",
   "execution_count": 160,
   "id": "852c5998-e78a-4ffa-9830-e546dd984d10",
   "metadata": {},
   "outputs": [],
   "source": [
    "my_tuple=()"
   ]
  },
  {
   "cell_type": "code",
   "execution_count": 161,
   "id": "1b264d48-9aba-4e29-9d54-535134288891",
   "metadata": {},
   "outputs": [],
   "source": [
    "my_tuple = (\"Bittu\",\"Anuj\",\"Sumit\")"
   ]
  },
  {
   "cell_type": "code",
   "execution_count": 163,
   "id": "df0d9c19-41a4-4eb7-b3e0-0061ad0791b5",
   "metadata": {},
   "outputs": [],
   "source": [
    "my_tuple=('Hello','World')"
   ]
  },
  {
   "cell_type": "code",
   "execution_count": 165,
   "id": "5a855676-c904-4792-a811-f9247f1ee495",
   "metadata": {},
   "outputs": [
    {
     "name": "stdout",
     "output_type": "stream",
     "text": [
      "('Hello', 'World')\n"
     ]
    }
   ],
   "source": [
    "print(my_tuple)"
   ]
  },
  {
   "cell_type": "code",
   "execution_count": 166,
   "id": "c2715968-6121-473f-808c-b4ff2a9722a5",
   "metadata": {},
   "outputs": [],
   "source": [
    "#### Tuple Inbuilt Functions"
   ]
  },
  {
   "cell_type": "code",
   "execution_count": 167,
   "id": "f8bfe7f6-8aad-49d6-a52f-92a07ad8713d",
   "metadata": {},
   "outputs": [
    {
     "data": {
      "text/plain": [
       "0"
      ]
     },
     "execution_count": 167,
     "metadata": {},
     "output_type": "execute_result"
    }
   ],
   "source": [
    "my_tuple.count('krish')"
   ]
  },
  {
   "cell_type": "code",
   "execution_count": 168,
   "id": "84c812ee-c384-4103-90ee-8173a9d5ce5a",
   "metadata": {},
   "outputs": [
    {
     "data": {
      "text/plain": [
       "0"
      ]
     },
     "execution_count": 168,
     "metadata": {},
     "output_type": "execute_result"
    }
   ],
   "source": [
    "my_tuple.count('Bittu')"
   ]
  },
  {
   "cell_type": "code",
   "execution_count": null,
   "id": "8d5268d2-29b4-4480-8418-d92bcb9dad85",
   "metadata": {},
   "outputs": [],
   "source": []
  }
 ],
 "metadata": {
  "kernelspec": {
   "display_name": "Python 3 (ipykernel)",
   "language": "python",
   "name": "python3"
  },
  "language_info": {
   "codemirror_mode": {
    "name": "ipython",
    "version": 3
   },
   "file_extension": ".py",
   "mimetype": "text/x-python",
   "name": "python",
   "nbconvert_exporter": "python",
   "pygments_lexer": "ipython3",
   "version": "3.13.3"
  }
 },
 "nbformat": 4,
 "nbformat_minor": 5
}
