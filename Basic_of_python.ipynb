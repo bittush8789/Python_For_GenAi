{
 "cells": [
  {
   "cell_type": "code",
   "execution_count": 1,
   "id": "d82b9318-e5aa-4f19-9bec-29fa6de3121b",
   "metadata": {},
   "outputs": [
    {
     "name": "stdout",
     "output_type": "stream",
     "text": [
      "Hello\n"
     ]
    }
   ],
   "source": [
    "print(\"Hello\")"
   ]
  },
  {
   "cell_type": "code",
   "execution_count": 5,
   "id": "4b295554-be21-499d-9959-bdd9d5deca3e",
   "metadata": {},
   "outputs": [],
   "source": [
    "myname = 'Bittu'"
   ]
  },
  {
   "cell_type": "code",
   "execution_count": 6,
   "id": "46d4d1c0-b7c7-410e-95c5-2353bcfa4e0e",
   "metadata": {},
   "outputs": [
    {
     "data": {
      "text/plain": [
       "'Bittu'"
      ]
     },
     "execution_count": 6,
     "metadata": {},
     "output_type": "execute_result"
    }
   ],
   "source": [
    "myname"
   ]
  },
  {
   "cell_type": "code",
   "execution_count": 7,
   "id": "e6663206-bd9d-4096-af1f-4a8dc2fe90bc",
   "metadata": {},
   "outputs": [
    {
     "data": {
      "text/plain": [
       "2"
      ]
     },
     "execution_count": 7,
     "metadata": {},
     "output_type": "execute_result"
    }
   ],
   "source": [
    "1+1"
   ]
  },
  {
   "cell_type": "code",
   "execution_count": 8,
   "id": "315e44a0-ec09-43a7-91cd-dbf3ae21b690",
   "metadata": {},
   "outputs": [
    {
     "data": {
      "text/plain": [
       "20"
      ]
     },
     "execution_count": 8,
     "metadata": {},
     "output_type": "execute_result"
    }
   ],
   "source": [
    "4*5"
   ]
  },
  {
   "cell_type": "code",
   "execution_count": 9,
   "id": "cd558856-c864-40f3-81bd-45f800aa17bd",
   "metadata": {},
   "outputs": [
    {
     "data": {
      "text/plain": [
       "2.0"
      ]
     },
     "execution_count": 9,
     "metadata": {},
     "output_type": "execute_result"
    }
   ],
   "source": [
    "10/5"
   ]
  },
  {
   "cell_type": "code",
   "execution_count": 10,
   "id": "63f8d72c-3cfb-44fd-b247-4b63bb54ee05",
   "metadata": {},
   "outputs": [
    {
     "data": {
      "text/plain": [
       "100"
      ]
     },
     "execution_count": 10,
     "metadata": {},
     "output_type": "execute_result"
    }
   ],
   "source": [
    "10**2"
   ]
  },
  {
   "cell_type": "code",
   "execution_count": 12,
   "id": "07fae0e3-7672-41fa-97bc-5586ad6124d2",
   "metadata": {},
   "outputs": [],
   "source": [
    "## Check the type of variables"
   ]
  },
  {
   "cell_type": "code",
   "execution_count": 14,
   "id": "b5e01bb1-405e-4b52-ba78-a6bdeef39fed",
   "metadata": {},
   "outputs": [
    {
     "data": {
      "text/plain": [
       "bool"
      ]
     },
     "execution_count": 14,
     "metadata": {},
     "output_type": "execute_result"
    }
   ],
   "source": [
    "type(True)"
   ]
  },
  {
   "cell_type": "code",
   "execution_count": 15,
   "id": "6cf3e551-2829-4e65-9f35-fb734233e2bb",
   "metadata": {},
   "outputs": [
    {
     "data": {
      "text/plain": [
       "bool"
      ]
     },
     "execution_count": 15,
     "metadata": {},
     "output_type": "execute_result"
    }
   ],
   "source": [
    "type(False)"
   ]
  },
  {
   "cell_type": "code",
   "execution_count": 17,
   "id": "b174f009-2c86-4f31-bb88-da24e66ce040",
   "metadata": {},
   "outputs": [
    {
     "data": {
      "text/plain": [
       "complex"
      ]
     },
     "execution_count": 17,
     "metadata": {},
     "output_type": "execute_result"
    }
   ],
   "source": [
    "type(4+5j)"
   ]
  },
  {
   "cell_type": "code",
   "execution_count": 18,
   "id": "fa366f19-4efc-4793-a24c-70d1f8335adf",
   "metadata": {},
   "outputs": [],
   "source": [
    "###String"
   ]
  },
  {
   "cell_type": "code",
   "execution_count": 19,
   "id": "e2a5ecb5-ae9f-48a7-8cee-f3f949a53e51",
   "metadata": {},
   "outputs": [
    {
     "data": {
      "text/plain": [
       "'hello'"
      ]
     },
     "execution_count": 19,
     "metadata": {},
     "output_type": "execute_result"
    }
   ],
   "source": [
    "\"hello\""
   ]
  },
  {
   "cell_type": "code",
   "execution_count": 20,
   "id": "48e0d81f-91e9-4d58-bf04-f16888ece0fe",
   "metadata": {},
   "outputs": [
    {
     "data": {
      "text/plain": [
       "str"
      ]
     },
     "execution_count": 20,
     "metadata": {},
     "output_type": "execute_result"
    }
   ],
   "source": [
    "type(\"Bittu Sharma\")"
   ]
  },
  {
   "cell_type": "code",
   "execution_count": 22,
   "id": "f7b1a345-3ad3-45d9-95c4-173c05a5633f",
   "metadata": {},
   "outputs": [
    {
     "data": {
      "text/plain": [
       "str"
      ]
     },
     "execution_count": 22,
     "metadata": {},
     "output_type": "execute_result"
    }
   ],
   "source": [
    "type(\"Bittu Sharma\")"
   ]
  },
  {
   "cell_type": "code",
   "execution_count": 23,
   "id": "6176a232-23d7-483c-a529-a5540d076441",
   "metadata": {},
   "outputs": [],
   "source": [
    "## Variables Management"
   ]
  },
  {
   "cell_type": "code",
   "execution_count": 24,
   "id": "ad882d7b-1fbb-4c00-9a92-8619d7574bdc",
   "metadata": {},
   "outputs": [],
   "source": [
    "a=10"
   ]
  },
  {
   "cell_type": "code",
   "execution_count": 25,
   "id": "dca2cdde-a3b0-4a32-a6c6-fda4d2c76a72",
   "metadata": {},
   "outputs": [
    {
     "data": {
      "text/plain": [
       "int"
      ]
     },
     "execution_count": 25,
     "metadata": {},
     "output_type": "execute_result"
    }
   ],
   "source": [
    "type(a)"
   ]
  },
  {
   "cell_type": "code",
   "execution_count": 27,
   "id": "8afb190d-21d7-46dc-a1b3-284153826ccd",
   "metadata": {},
   "outputs": [
    {
     "data": {
      "text/plain": [
       "'BittuSharma'"
      ]
     },
     "execution_count": 27,
     "metadata": {},
     "output_type": "execute_result"
    }
   ],
   "source": [
    "a=(\"BittuSharma\")\n",
    "a"
   ]
  },
  {
   "cell_type": "code",
   "execution_count": 31,
   "id": "3e5573cf-dce3-4379-a816-5be7b8f91562",
   "metadata": {},
   "outputs": [
    {
     "name": "stdout",
     "output_type": "stream",
     "text": [
      "my first name is Bittu and last name is Sharma\n"
     ]
    }
   ],
   "source": [
    "First_name = \"Bittu\"\n",
    "Last_name = \"Sharma\"\n",
    "print(\"my first name is {} and last name is {}\".format(First_name,Last_name))"
   ]
  },
  {
   "cell_type": "code",
   "execution_count": 34,
   "id": "35696efc-d8c8-4cbd-afa7-f375ae61dfda",
   "metadata": {},
   "outputs": [
    {
     "data": {
      "text/plain": [
       "5"
      ]
     },
     "execution_count": 34,
     "metadata": {},
     "output_type": "execute_result"
    }
   ],
   "source": [
    "len(First_name)"
   ]
  },
  {
   "cell_type": "code",
   "execution_count": 35,
   "id": "80e1c215-706a-4ecd-b669-bb637c7d27c7",
   "metadata": {},
   "outputs": [
    {
     "data": {
      "text/plain": [
       "6"
      ]
     },
     "execution_count": 35,
     "metadata": {},
     "output_type": "execute_result"
    }
   ],
   "source": [
    "len(Last_name)"
   ]
  },
  {
   "cell_type": "code",
   "execution_count": 36,
   "id": "e40c8602-80eb-4da6-a47f-0c4a067a2b93",
   "metadata": {},
   "outputs": [
    {
     "data": {
      "text/plain": [
       "list"
      ]
     },
     "execution_count": 36,
     "metadata": {},
     "output_type": "execute_result"
    }
   ],
   "source": [
    "type([\"1\",2,3,4,5])"
   ]
  },
  {
   "cell_type": "code",
   "execution_count": null,
   "id": "7a6f5dc9-c4f1-4d5c-96aa-6bea50cc6444",
   "metadata": {},
   "outputs": [],
   "source": []
  }
 ],
 "metadata": {
  "kernelspec": {
   "display_name": "Python 3 (ipykernel)",
   "language": "python",
   "name": "python3"
  },
  "language_info": {
   "codemirror_mode": {
    "name": "ipython",
    "version": 3
   },
   "file_extension": ".py",
   "mimetype": "text/x-python",
   "name": "python",
   "nbconvert_exporter": "python",
   "pygments_lexer": "ipython3",
   "version": "3.13.3"
  }
 },
 "nbformat": 4,
 "nbformat_minor": 5
}
